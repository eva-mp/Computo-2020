{
 "cells": [
  {
   "cell_type": "markdown",
   "metadata": {},
   "source": [
    "# Tarea 3. Sistemas de ecuaciones lineales.\n"
   ]
  },
  {
   "cell_type": "markdown",
   "metadata": {},
   "source": [
    "## 1. Solución de sistemas de ecuaciones. \n",
    "\n",
    "Resolvemos los sistemas de ecuaciones para comparar con la solución a mano. Los resultados se encuentran en los cuadros 1 y 2 del reporte. "
   ]
  },
  {
   "cell_type": "code",
   "execution_count": 1,
   "metadata": {},
   "outputs": [
    {
     "name": "stdout",
     "output_type": "stream",
     "text": [
      "[ 63.15559099 -11.88388125   2.71583892]\n",
      "[ 2.92126785e+00 -2.78506490e+02  1.81170254e-01]\n"
     ]
    }
   ],
   "source": [
    "import numpy as np\n",
    "from IPython.display import Image\n",
    "\n",
    "a1= np.array([[0.0001,-0.6,4],[-0.2,-2,4],[1.5,3.2,6]])\n",
    "b1= np.array([18,22,73])\n",
    "x1= np.linalg.solve(a1, b1)\n",
    "print(x1)\n",
    "\n",
    "a2= np.array([[0.003,0.08,1.5],[6,-0.0002,2.3],[2.5,0.0001,4]])\n",
    "b2= np.array([-22,18,8])\n",
    "x2= np.linalg.solve(a2, b2)\n",
    "print(x2)\n"
   ]
  },
  {
   "cell_type": "code",
   "execution_count": 2,
   "metadata": {},
   "outputs": [
    {
     "data": {
      "text/plain": [
       "3.4131435652962456"
      ]
     },
     "execution_count": 2,
     "metadata": {},
     "output_type": "execute_result"
    }
   ],
   "source": [
    "100*((63.15559099 -61) / 63.15559099)\n"
   ]
  },
  {
   "cell_type": "markdown",
   "metadata": {},
   "source": [
    "## 2. Implementar el algoritmo de Crout para obtener las matrices U y L. \n"
   ]
  },
  {
   "cell_type": "code",
   "execution_count": 3,
   "metadata": {},
   "outputs": [],
   "source": [
    "# (2) Algoritmo de Crout:\n",
    "import numpy as np\n",
    "\n",
    "def crout(A):\n",
    "    \n",
    "    n = A.shape[0]   #n es el número de filas de A\n",
    "    \n",
    "    U = np.zeros((n, n), dtype=np.double)   #Inicializa  U \n",
    "    #L = np.zeros((n, n), dtype=np.double)\n",
    "    L = np.eye(n, dtype=np.double)          #Inicializa L como la identidad\n",
    "    #print('L=\\n', L)\n",
    "    #print('U=\\n', U)\n",
    "   \n",
    "    #Loop sobre las filas\n",
    "    for k in range(n):\n",
    "        \n",
    "        L[k, k] = A[k, k] - L[k, :] @ U[:, k]\n",
    "        #print('L=\\n', L)  #las iteraciones.\n",
    "        #print('U=\\n', U)\n",
    "        U[k, k:] = (A[k, k:] - L[k, :k] @ U[:k, k:]) / L[k, k]\n",
    "        L[(k+1):, k] = (A[(k+1):, k] - L[(k+1):, :] @ U[:, k]) / U[k, k]\n",
    "        \n",
    "    #print('\\n\\nA = LU = \\n',L @ U) #Recuperamos la matriz original. \n",
    "\n",
    "    return L, U\n",
    "# test\n",
    "#A = np.array([[60.0, 30.0, 20.0], [30.0, 20.0, 15.0], [20.0, 15.0, 12.0]])\n",
    "#L,U = crout(A)\n",
    "#print('L=\\n', L)\n",
    "#print('U=\\n', U)"
   ]
  },
  {
   "cell_type": "code",
   "execution_count": 4,
   "metadata": {},
   "outputs": [
    {
     "name": "stdout",
     "output_type": "stream",
     "text": [
      "L=\n",
      " [[-6.          0.          0.          0.        ]\n",
      " [ 4.         -5.          0.          0.        ]\n",
      " [ 6.         -5.          5.66666667  0.        ]\n",
      " [ 7.          2.5        -4.5        -3.70588235]]\n",
      "U=\n",
      " [[ 1.         -0.5         0.66666667  0.5       ]\n",
      " [ 0.          1.          1.13333333 -0.        ]\n",
      " [ 0.          0.          1.          0.17647059]\n",
      " [ 0.          0.          0.          1.        ]]\n"
     ]
    }
   ],
   "source": [
    "#\n",
    "A = np.array([[-6., 3., -4., -3], [4., -7., -3., 2], [6., -8., 4, 4], [7., -1., 3., -1]])\n",
    "L,U = crout(A)\n",
    "print('L=\\n', L)\n",
    "print('U=\\n', U)"
   ]
  },
  {
   "cell_type": "markdown",
   "metadata": {},
   "source": [
    "## Usar las matrices L y U calculadas anteriormente para resolver sistemas de ecuaciones $Ax=b$."
   ]
  },
  {
   "cell_type": "code",
   "execution_count": 5,
   "metadata": {},
   "outputs": [],
   "source": [
    "def sustitucion_adelante(L,b):\n",
    "    #número de filas\n",
    "    n = L.shape[0]\n",
    "    \n",
    "    #inicializamos solución\n",
    "    y = np.zeros_like(b,dtype=np.double)  #Return an array of zeros with the same shape and type as a given array.\n",
    "    \n",
    "    #Sustitución hacia adelante,  \n",
    "    #inicia con la primer fila:\n",
    "    y[0] = b[0] / L[0, 0]\n",
    "    \n",
    "    #loop sobre las filas en reversa (de abajo hacia arriba),\n",
    "    #iniciando con la penúltima fila, la primera se hizo en el paso anterior.\n",
    "    for i in range(1, n):\n",
    "        y[i] = (b[i] - np.dot(L[i,:i], y[:i])) / L[i,i]\n",
    "        \n",
    "    return y "
   ]
  },
  {
   "cell_type": "code",
   "execution_count": 6,
   "metadata": {},
   "outputs": [],
   "source": [
    "def sustitucion_atras(U,y):\n",
    "    \n",
    "    #número de filas\n",
    "    n = U.shape[0]\n",
    "    \n",
    "    #inicializamos solución\n",
    "    x = np.zeros_like(y, dtype=np.double)\n",
    "\n",
    "    #sustitución hacia atrás,  \n",
    "    #inicia con la última fila\n",
    "    x[-1] = y[-1] / U[-1, -1]\n",
    "    \n",
    "    #loop sobre las filas en reversa (de abajo hacia arriba),\n",
    "    #iniciando con la penúltima fila, la primera se hizo en el paso anterior.\n",
    "    for i in range(n-2, -1, -1):\n",
    "        x[i] = (y[i] - np.dot(U[i,i:], x[i:])) / U[i,i]\n",
    "        \n",
    "    return x\n",
    "\n",
    "    "
   ]
  },
  {
   "cell_type": "code",
   "execution_count": 7,
   "metadata": {},
   "outputs": [],
   "source": [
    "def lu_sol(A,b):\n",
    "\n",
    "    L,U = crout(A)\n",
    "    \n",
    "    y = sustitucion_adelante(L,b)\n",
    "    \n",
    "    return sustitucion_atras(U,y)\n"
   ]
  },
  {
   "cell_type": "code",
   "execution_count": 8,
   "metadata": {},
   "outputs": [
    {
     "name": "stdout",
     "output_type": "stream",
     "text": [
      "x_1=\n",
      " [[ 1.0000000e+00]\n",
      " [-3.0000000e+00]\n",
      " [ 5.0000000e+00]\n",
      " [-9.5866877e-16]] \n",
      "x_2=\n",
      " [[ 0.5 ]\n",
      " [ 0.25]\n",
      " [-0.5 ]\n",
      " [-0.25]] \n",
      "x_3=\n",
      " [[-1.]\n",
      " [ 1.]\n",
      " [ 5.]\n",
      " [-3.]]\n"
     ]
    },
    {
     "data": {
      "text/plain": [
       "(4, 1)"
      ]
     },
     "execution_count": 8,
     "metadata": {},
     "output_type": "execute_result"
    }
   ],
   "source": [
    "# resolviendo los sistemas de ecuaciones\n",
    "b1 = np.array([[-35.],[10],[50],[25]])\n",
    "b2 = np.array([[0.5],[1.25],[-2.],[2.]])\n",
    "b3 = np.array([[-2.],[-32.],[-6.],[10.]])\n",
    "\n",
    "#print('b1=\\n',b1,'\\nb2=\\n',b2,'\\nb3=\\n',b3)\n",
    "#print(b1.shape)\n",
    "\n",
    "#A = np.array([[1, 4, 5], [6, 8, 22], [32, 5., 5]])\n",
    "#b = np.array([1, 2, 3.])\n",
    "#lu_solve(A, b)\n",
    "\n",
    "A = np.array([[-6., 3., -4., -3], [4., -7., -3., 2], [6., -8., 4, 4], [7., -1., 3., -1]])\n",
    "\n",
    "x1 = lu_sol(A, b1)\n",
    "x2 = lu_sol(A, b2)\n",
    "x3 = lu_sol(A, b3)\n",
    "\n",
    "print('x_1=\\n', x1, '\\nx_2=\\n', x2,'\\nx_3=\\n',x3)\n",
    "x1.shape"
   ]
  },
  {
   "cell_type": "code",
   "execution_count": 9,
   "metadata": {},
   "outputs": [
    {
     "name": "stdout",
     "output_type": "stream",
     "text": [
      "x_1=\n",
      " [[ 1.00000000e+00]\n",
      " [-3.00000000e+00]\n",
      " [ 5.00000000e+00]\n",
      " [ 8.45884209e-16]] \n",
      "x_2=\n",
      " [[ 0.5 ]\n",
      " [ 0.25]\n",
      " [-0.5 ]\n",
      " [-0.25]] \n",
      "x_3=\n",
      " [[-1.]\n",
      " [ 1.]\n",
      " [ 5.]\n",
      " [-3.]]\n"
     ]
    }
   ],
   "source": [
    "#compara con np.linalg.solve\n",
    "x1_np= np.linalg.solve(A, b1)\n",
    "x2_np= np.linalg.solve(A, b2)\n",
    "x3_np= np.linalg.solve(A, b3)\n",
    "print('x_1=\\n', x1_np, '\\nx_2=\\n', x2_np,'\\nx_3=\\n',x3_np)"
   ]
  },
  {
   "cell_type": "markdown",
   "metadata": {},
   "source": [
    "## 3. Single Value Decomposition.\n",
    "\n",
    "Hallar los valores y vectores propios de las matrices;"
   ]
  },
  {
   "cell_type": "code",
   "execution_count": 10,
   "metadata": {},
   "outputs": [
    {
     "data": {
      "image/png": "[encoded data removed]",
      "text/plain": [
       "<IPython.core.display.Image object>"
      ]
     },
     "execution_count": 10,
     "metadata": {},
     "output_type": "execute_result"
    }
   ],
   "source": [
    "Image(\"/home/eva/Desktop/INAOE-2020/Computo_Estadistica/tarea-3/pb3.png\")"
   ]
  },
  {
   "cell_type": "code",
   "execution_count": 11,
   "metadata": {},
   "outputs": [
    {
     "name": "stdout",
     "output_type": "stream",
     "text": [
      "\n",
      "A\n",
      "\n",
      "w=\n",
      " [ 22.62369824+0.j         -13.81184912+0.42782829j\n",
      " -13.81184912-0.42782829j] \n",
      "\n",
      "v=\n",
      " [[-0.49062573+0.j         -0.56510712+0.25573432j -0.56510712-0.25573432j]\n",
      " [-0.67804264+0.j         -0.10420029-0.22924962j -0.10420029+0.22924962j]\n",
      " [ 0.54730665+0.j         -0.74285988+0.j         -0.74285988-0.j        ]] \n",
      "\n",
      "(3,)\n",
      "(3, 3)\n",
      "\n",
      "B\n",
      "\n",
      "w=\n",
      " [ 1.14161985e+01  3.13666465e-16 -3.41619849e+00] \n",
      "\n",
      "v=\n",
      " [[-0.900516   -0.57735027  0.74693602]\n",
      " [-0.41204124  0.57735027 -0.63006009]\n",
      " [-0.13889907  0.57735027  0.21239321]] \n",
      "\n",
      "(3,)\n",
      "(3, 3)\n",
      "w=\n",
      " [-1.10000000e+01+13.7113092j -1.10000000e+01-13.7113092j\n",
      " -5.89790879e-16 +0.j       ] \n",
      "\n",
      "v=\n",
      " [[-0.74339194+0.j         -0.74339194-0.j         -0.57355725+0.j        ]\n",
      " [-0.03539962-0.48537508j -0.03539962+0.48537508j -0.4417941 +0.j        ]\n",
      " [-0.38939578-0.24268754j -0.38939578+0.24268754j  0.68981886+0.j        ]] \n",
      "\n",
      "(3,)\n",
      "(3, 3)\n"
     ]
    }
   ],
   "source": [
    "import numpy as np\n",
    "from numpy import linalg\n",
    "\n",
    "A = np.array([[-4., 12., -9.], [14., 2., -13.], [-12., -12., -3.]])\n",
    "B = np.array([[7., 11., -4.], [4., 2., 2.], [1., 2., -1]])\n",
    "C = np.array([[-13., 20., 2.], [-5., -6., -8], [-9, 7, -3]])\n",
    "\n",
    "w,v = np.linalg.eig(A)\n",
    "print('\\nA\\n')\n",
    "print('w=\\n',w,'\\n')\n",
    "print('v=\\n',v,'\\n')\n",
    "print(w.shape)\n",
    "print(v.shape)\n",
    "\n",
    "w,v = np.linalg.eig(B)\n",
    "print('\\nB\\n')\n",
    "print('w=\\n',w,'\\n')\n",
    "print('v=\\n',v,'\\n')\n",
    "print(w.shape)\n",
    "print(v.shape)\n",
    "\n",
    "w,v = np.linalg.eig(C)\n",
    "print('w=\\n',w,'\\n')\n",
    "print('v=\\n',v,'\\n')\n",
    "print(w.shape)\n",
    "print(v.shape)\n",
    "\n",
    "#print('\\n')\n",
    "#print(A)\n",
    "#print(B)\n",
    "#print(C)"
   ]
  },
  {
   "cell_type": "markdown",
   "metadata": {},
   "source": [
    "### Descomponer las matrices A y B en sus valores singulares (SVD, Single Value Decomposition) y calcular su rango."
   ]
  },
  {
   "cell_type": "code",
   "execution_count": 12,
   "metadata": {},
   "outputs": [
    {
     "name": "stdout",
     "output_type": "stream",
     "text": [
      "SVD de A\n",
      "\n",
      "U\n",
      " [[ 0.35270175 -0.93448069  0.04844919]\n",
      " [ 0.73272443  0.30801448  0.60682946]\n",
      " [-0.58199347 -0.1785299   0.79335407]]\n",
      "s\n",
      " [23.05300889 14.13509345 13.25737207]\n",
      "VT\n",
      " [[ 0.68673277  0.55011437 -0.47515502]\n",
      " [ 0.72107654 -0.59818355  0.349607  ]\n",
      " [-0.09190608 -0.58270972 -0.80746681]]\n",
      "\n",
      "SVD de B\n",
      "\n",
      "U\n",
      " [[-0.95807286  0.20976452 -0.19518001]\n",
      " [-0.23178824 -0.96785867  0.09759001]\n",
      " [-0.16843575  0.13873877  0.97590007]]\n",
      "s\n",
      " [1.42113602e+01 3.74663068e+00 3.86747134e-17]\n",
      "VT\n",
      " [[-0.54900436 -0.79790036  0.248896  ]\n",
      " [-0.60436816  0.17326764 -0.77763581]\n",
      " [-0.57735027  0.57735027  0.57735027]]\n"
     ]
    }
   ],
   "source": [
    "print('SVD de A\\n')\n",
    "U_A, s_A, VT_A = np.linalg.svd(A)\n",
    "print('U\\n',U_A)\n",
    "print('s\\n',s_A)\n",
    "print('VT\\n',VT_A)\n",
    "\n",
    "\n",
    "print('\\nSVD de B\\n')\n",
    "U_B, s_B, VT_B = np.linalg.svd(B)\n",
    "print('U\\n',U_B)\n",
    "print('s\\n',s_B)\n",
    "print('VT\\n',VT_B)"
   ]
  },
  {
   "cell_type": "markdown",
   "metadata": {},
   "source": [
    "#### Podemos hallar el rango de una matriz usando el número de sus valores singulares no-nulos."
   ]
  },
  {
   "cell_type": "code",
   "execution_count": 13,
   "metadata": {},
   "outputs": [
    {
     "name": "stdout",
     "output_type": "stream",
     "text": [
      "rango A = 3\n",
      "rango B = 2\n",
      "rango C = 2\n",
      "rango D = 2\n"
     ]
    }
   ],
   "source": [
    "#\n",
    "def rango(A, eps=1e-12):               #Lo que sea menor a 1e-12 es cero. \n",
    "    u, s, vh = np.linalg.svd(A) \n",
    "    return len([x for x in s if abs(x) > eps])  #contamos cuantos valores singulares son != 0.\n",
    "\n",
    "#print(A,B,C)\n",
    "R_A = rango(A)\n",
    "print('rango A =',R_A)\n",
    "R_B = rango(B)\n",
    "print('rango B =',R_B)\n",
    "R_C = rango(C)\n",
    "print('rango C =',R_C)\n",
    "#print('\\n', A)\n",
    "\n",
    "#test\n",
    "D = ([[1,0,1,1],[-1,2,3,2],[0,2,4,3]])\n",
    "R_D = rango(D)\n",
    "print('rango D =',R_D)"
   ]
  },
  {
   "cell_type": "markdown",
   "metadata": {},
   "source": [
    "## 4. Métodos iterativos para resolver sistemas de ecuaciones lineales.\n"
   ]
  },
  {
   "cell_type": "code",
   "execution_count": 14,
   "metadata": {},
   "outputs": [
    {
     "name": "stdout",
     "output_type": "stream",
     "text": [
      "[-0.04109589 -0.28767123  0.5890411 ]\n",
      "[-0.04109589 -0.28767123  0.5890411 ]\n"
     ]
    }
   ],
   "source": [
    "\n",
    "def itsol(A, b, guess=None, maxit=100,  eps=1e-6):\n",
    "    \n",
    "    x = [1.0, 1.0, 1.0]\n",
    "    D = np.diag(A)               \n",
    "    R = A - np.diagflat(D)\n",
    "    #print(np.shape(D), np.shape(R))\n",
    "    \n",
    "    for i in range(maxit):\n",
    "        x = (b - np.dot(R,x))/ D\n",
    "        #print('x',x,'b', b,'R', R, 'D',D)\n",
    "    return x\n",
    "\n",
    "#################################\n",
    "\n",
    "A = np.array([[4.0, -2.0, 1.0], [1.0, -3.0, 2.0], [-1.0, 2.0, 6.0]])\n",
    "b = [1.0, 2.0, 3.0]\n",
    "\n",
    "\n",
    "print (np.linalg.solve(A, b)) #para comparar con numpy\n",
    "Sol=itsol(A, b)\n",
    "print(Sol)"
   ]
  },
  {
   "cell_type": "markdown",
   "metadata": {},
   "source": [
    "### 5. Ajuste polinomial mediante el cálculo de la pseudo-inversa.\n",
    "Solución para sistemas sobredeterminados. Aplicar esta técnica para los datos del archivo 3c279_sma.csv \n",
    "\n",
    "Ajuste los polinomios de grado 3,5 y 8. Graficar todo junto.\n",
    "\n",
    "Como primera aproximación escribi el método para N=3 y pocos puntos. Se utiliza para ajustar puntos a una función $y=x^3$, y se compara con puntos obtenidos de la forma analítica de la función."
   ]
  },
  {
   "cell_type": "code",
   "execution_count": 24,
   "metadata": {},
   "outputs": [
    {
     "name": "stdout",
     "output_type": "stream",
     "text": [
      "A [[-27.   9.  -3.   1.]\n",
      " [ -1.   1.  -1.   1.]\n",
      " [ -8.   4.  -2.   1.]\n",
      " [  1.   1.   1.   1.]\n",
      " [  0.   0.   0.   1.]\n",
      " [  8.   4.   2.   1.]]\n",
      "A_p [[-0.0462963   0.03703704  0.06481481 -0.06481481 -0.03703704  0.0462963 ]\n",
      " [ 0.01984127 -0.01587302  0.07936508 -0.11507937 -0.12698413  0.15873016]\n",
      " [ 0.14550265 -0.25925926 -0.38227513  0.34656085  0.11640212  0.03306878]\n",
      " [-0.03174603  0.25396825  0.01587302  0.41269841  0.46031746 -0.11111111]]\n",
      "coef [ 1.00000000e+00  0.00000000e+00 -6.10622664e-16  0.00000000e+00]\n"
     ]
    },
    {
     "data": {
      "text/plain": [
       "[<matplotlib.lines.Line2D at 0x7f7c48127be0>]"
      ]
     },
     "execution_count": 24,
     "metadata": {},
     "output_type": "execute_result"
    },
    {
     "data": {
      "image/png": "[encoded data removed]",
      "text/plain": [
       "<Figure size 432x288 with 1 Axes>"
      ]
     },
     "metadata": {
      "needs_background": "light"
     },
     "output_type": "display_data"
    }
   ],
   "source": [
    "#Ajuste primera aproximación N=3\n",
    "import numpy as np\n",
    "from numpy import linalg\n",
    "import matplotlib.pyplot as pl\n",
    "\n",
    "\n",
    "x = np.array([-3,-1,-2,1,0,2])\n",
    "y = x**3\n",
    "\n",
    "# A = np.array([[-3, 1], [-1, 1], [-2, 1], [1, 1], [0, 1], [2, 1]])\n",
    "# b = np.array([[-3], [-1], [-2], [1], [0], [2]])\n",
    "A=np.ones((6,4))\n",
    "A[:,0]= x**3\n",
    "A[:,1]= x**2\n",
    "A[:,2]= x\n",
    "\n",
    "# print A\n",
    "\n",
    "# A = np.array([[9,-3, 1], [1,-1, 1], [4,-2, 1], [1,1, 1], [0,0, 1], [2,2, 1]])\n",
    "\n",
    "A_plus = np.linalg.pinv(A)\n",
    "coefs = np.dot(A_plus,y)\n",
    "\n",
    "print ('A',A)\n",
    "print ('A_p',A_plus)\n",
    "print ('coef',coefs)\n",
    "\n",
    "\n",
    "xp = np.linspace(min(x), max(x), 1000)\n",
    "yp = coefs[0]*xp**3 + coefs[1]*xp**2 + coefs[2]*xp + coefs[3]\n",
    "\n",
    "pl.plot(x, y, '*')\n",
    "pl.plot(xp, yp)\n"
   ]
  },
  {
   "cell_type": "markdown",
   "metadata": {},
   "source": [
    "En la gráfica anterior se comprueba que el método de ajuste mediante la matriz pseudo-inversa funciona bien. \n",
    "Ahora usamos el método para ajustar los puntos de las mediciones de flujo del cuásar 3c279."
   ]
  },
  {
   "cell_type": "code",
   "execution_count": 26,
   "metadata": {},
   "outputs": [
    {
     "name": "stdout",
     "output_type": "stream",
     "text": [
      "2. Cuásar 3c279\n",
      "(a)Transforma las columnas de Día, Mes y Año a días julianos (JD)\n",
      "\n",
      "(462,)\n",
      "(462,)\n"
     ]
    },
    {
     "data": {
      "text/plain": [
       "numpy.ndarray"
      ]
     },
     "execution_count": 26,
     "metadata": {},
     "output_type": "execute_result"
    }
   ],
   "source": [
    "################## Aqui solo leo el archivo y transformo a MJD ###############\n",
    "\n",
    "import numpy as np\n",
    "from astropy.time import Time\n",
    "import pandas as panda\n",
    "import calendar\n",
    "print('2. Cuásar 3c279')\n",
    "print('(a)Transforma las columnas de Día, Mes y Año a días julianos (JD)\\n')\n",
    "f = panda.read_csv(\"3c279_sma.csv\")\n",
    "#print (f.keys())\n",
    "\n",
    "# Reescribir usando número en vez del nombre del mes\n",
    "d = dict((v,k) for v,k in zip(calendar.month_abbr[1:], range(1, 13)))\n",
    "f.MONTH = f.MONTH.map(d)\n",
    "#print(f.MONTH)\n",
    "\n",
    "# Columna nueva en el formato de Time:\n",
    "cols = ['YEAR', 'MONTH', 'DAY']\n",
    "newcol = ['-'.join(i) for i in f[cols].astype(str).values]\n",
    "f_new = f.assign(DATE=newcol) #.drop(cols,1) \n",
    "fecha = np.asarray(f_new.DATE)\n",
    "g = fecha.tolist()\n",
    "\n",
    "# convierte a JD y MJD\n",
    "t = Time(g, format='iso')\n",
    "t.format = 'jd'\n",
    "jd = np.asarray(t.value)\n",
    "t.format = 'mjd'\n",
    "#######################################################\n",
    "#Leo el archivo y lo guardo en arreglos x,y\n",
    "x =  np.asarray(t.value)     # son las fechas en mjd\n",
    "print(np.shape(x))\n",
    "y = np.asarray(f['FLUX'])  \n",
    "print(np.shape(y))   #necesito un vector columna para y\n",
    "type(y)\n",
    "\n",
    "#print(np.shape(y))"
   ]
  },
  {
   "cell_type": "code",
   "execution_count": 27,
   "metadata": {},
   "outputs": [
    {
     "name": "stdout",
     "output_type": "stream",
     "text": [
      "(462,)\n",
      "(462, 3)\n",
      "[[3.04726080e+09 5.52020000e+04 1.00000000e+00]\n",
      " [3.04737121e+09 5.52030000e+04 1.00000000e+00]\n",
      " [3.04748162e+09 5.52040000e+04 1.00000000e+00]\n",
      " ...\n",
      " [3.46708992e+09 5.88820000e+04 1.00000000e+00]\n",
      " [3.46956341e+09 5.89030000e+04 1.00000000e+00]\n",
      " [3.47144856e+09 5.89190000e+04 1.00000000e+00]]\n",
      "coef [-3.98538468e-07  4.35121506e-02 -1.17464810e+03]\n"
     ]
    },
    {
     "data": {
      "image/png": "[encoded data removed]",
      "text/plain": [
       "<Figure size 432x288 with 1 Axes>"
      ]
     },
     "metadata": {
      "needs_background": "light"
     },
     "output_type": "display_data"
    }
   ],
   "source": [
    "########## N= 2 ##########\n",
    "B=np.ones((462,3))\n",
    "print(np.shape(x))\n",
    "print (np.shape(B))\n",
    "B[:,1] = x\n",
    "B[:,0] = x**2\n",
    "print (B)\n",
    "\n",
    "B_plus = np.linalg.pinv(B) \n",
    "#print(B_plus)\n",
    "\n",
    "#los coeficientes del polinomio se encuentran con:\n",
    "# 'y' es el vector solución\n",
    "coef = B_plus.dot(y)\n",
    "print('coef',coef)\n",
    "\n",
    "tt=np.linspace(np.min(x),np.max(x), 10000)\n",
    "P =coef[0]*tt**2 + coef[1]*tt + coef[2]\n",
    "\n",
    "plt.plot(B[:,1],y, '-', label=\"datos\")\n",
    "plt.plot(tt,P,label='N=2')\n",
    "plt.xlabel('MJD')\n",
    "plt.ylabel('Flujo[Jy]')\n",
    "plt.legend(loc='upper right', fontsize='14')\n",
    "plt.savefig(\"spectre.png\")\n",
    "\n",
    "plt.show()\n",
    "\n"
   ]
  },
  {
   "cell_type": "code",
   "execution_count": 28,
   "metadata": {},
   "outputs": [
    {
     "name": "stdout",
     "output_type": "stream",
     "text": [
      "E [[1.68214891e+14 3.04726080e+09 5.52020000e+04 1.00000000e+00]\n",
      " [1.68224033e+14 3.04737121e+09 5.52030000e+04 1.00000000e+00]\n",
      " [1.68233175e+14 3.04748162e+09 5.52040000e+04 1.00000000e+00]\n",
      " ...\n",
      " [2.04149189e+14 3.46708992e+09 5.88820000e+04 1.00000000e+00]\n",
      " [2.04367693e+14 3.46956341e+09 5.89030000e+04 1.00000000e+00]\n",
      " [2.04534278e+14 3.47144856e+09 5.89190000e+04 1.00000000e+00]]\n",
      "E_p [[ 7.52949434e-14  7.51615362e-14  7.50282020e-14 ...  1.14963252e-13\n",
      "   1.18438976e-13  1.21113453e-13]\n",
      " [-8.62817434e-09 -8.61294590e-09 -8.59772578e-09 ... -1.29914884e-08\n",
      "  -1.33862962e-08 -1.36900968e-08]\n",
      " [ 2.47108123e-04  2.46673699e-04  2.46239512e-04 ...  3.66959320e-04\n",
      "   3.78167492e-04  3.86792255e-04]\n",
      " [ 1.30327921e-08  1.30098800e-08  1.29869804e-08 ...  1.93538944e-08\n",
      "   1.99450274e-08  2.03999082e-08]]\n",
      "coeficientes [-5.92502240e-12  6.38748510e-07 -1.69710818e-02 -8.95076121e-07]\n"
     ]
    },
    {
     "data": {
      "text/plain": [
       "[<matplotlib.lines.Line2D at 0x7f7c48127f98>]"
      ]
     },
     "execution_count": 28,
     "metadata": {},
     "output_type": "execute_result"
    },
    {
     "data": {
      "image/png": "[encoded data removed]",
      "text/plain": [
       "<Figure size 432x288 with 1 Axes>"
      ]
     },
     "metadata": {
      "needs_background": "light"
     },
     "output_type": "display_data"
    }
   ],
   "source": [
    "##   N=3\n",
    "# A = np.array([[-3, 1], [-1, 1], [-2, 1], [1, 1], [0, 1], [2, 1]])\n",
    "# b = np.array([[-3], [-1], [-2], [1], [0], [2]])\n",
    "E=np.ones((462,4))\n",
    "\n",
    "E[:,0]= x**3\n",
    "E[:,1]= x**2\n",
    "E[:,2]= x\n",
    "\n",
    "#print (A)\n",
    "\n",
    "# A = np.array([[9,-3, 1], [1,-1, 1], [4,-2, 1], [1,1, 1], [0,0, 1], [2,2, 1]])\n",
    "\n",
    "E_plus = np.linalg.pinv(E)\n",
    "cs = np.dot(E_plus,y)\n",
    "\n",
    "print ('E',E)\n",
    "print ('E_p',E_plus)\n",
    "print ('coeficientes',cs)\n",
    "\n",
    "\n",
    "xp = np.linspace(min(x), max(x), 1000)\n",
    "yp = cs[0]*xp**3 + cs[1]*xp**2 + cs[2]*xp + cs[3]\n",
    "\n",
    "pl.plot(x, y, '*')\n",
    "pl.plot(xp, yp)\n",
    "\n",
    "\n"
   ]
  },
  {
   "cell_type": "markdown",
   "metadata": {},
   "source": [
    "Aqui comencé a sospechar que hay algo raro. Por mas que he aumentado el grado del polinomio no he logrado ver un mejor ajuste que los que ya he presentado."
   ]
  },
  {
   "cell_type": "code",
   "execution_count": 16,
   "metadata": {},
   "outputs": [
    {
     "name": "stdout",
     "output_type": "stream",
     "text": [
      "(462,)\n",
      "(462, 9)\n",
      "[[8.62260521e+37 1.56200957e+33 2.82962495e+28 ... 3.04726080e+09\n",
      "  5.52020000e+04 1.00000000e+00]\n",
      " [8.62385489e+37 1.56220765e+33 2.82993252e+28 ... 3.04737121e+09\n",
      "  5.52030000e+04 1.00000000e+00]\n",
      " [8.62510474e+37 1.56240576e+33 2.83024012e+28 ... 3.04748162e+09\n",
      "  5.52040000e+04 1.00000000e+00]\n",
      " ...\n",
      " [1.44497530e+38 2.45401872e+33 4.16768913e+28 ... 3.46708992e+09\n",
      "  5.88820000e+04 1.00000000e+00]\n",
      " [1.44910320e+38 2.46015178e+33 4.17661541e+28 ... 3.46956341e+09\n",
      "  5.89030000e+04 1.00000000e+00]\n",
      " [1.45225519e+38 2.46483340e+33 4.18342708e+28 ... 3.47144856e+09\n",
      "  5.89190000e+04 1.00000000e+00]]\n"
     ]
    }
   ],
   "source": [
    "#  N=8\n",
    "#Abrir el archivo, guardar en (x,y)\n",
    "#Para el ajuste A representa los valores de los coeficientes.\n",
    "#Creamos la matriz A con los datos (x,y)\n",
    "# y = b el vector de soluciones\n",
    "\n",
    "#Para ajustar al polinomio de grado 8\n",
    "A=np.ones((462,9))\n",
    "\n",
    "#x = np.array([7,1,5,4])\n",
    "#A=np.ones((4,9))\n",
    "print(np.shape(x))\n",
    "print (np.shape(A))\n",
    "A[:,7] = x\n",
    "A[:,6] = x**2\n",
    "A[:,5] = x**3\n",
    "A[:,4] = x**4\n",
    "A[:,3] = x**5\n",
    "A[:,2] = x**6\n",
    "A[:,1] = x**7\n",
    "A[:,0] = x**8\n",
    "\n",
    "print (A)\n"
   ]
  },
  {
   "cell_type": "code",
   "execution_count": 17,
   "metadata": {},
   "outputs": [
    {
     "name": "stdout",
     "output_type": "stream",
     "text": [
      "[[ 1.24092064e-37  1.23899557e-37  1.23707120e-37 ...  1.99073922e-37\n",
      "   2.06109957e-37  2.11539965e-37]\n",
      " [-1.42344969e-32 -1.42125002e-32 -1.41905114e-32 ... -2.25313477e-32\n",
      "  -2.33316349e-32 -2.39492655e-32]\n",
      " [ 4.08089941e-28  4.07461812e-28  4.06833910e-28 ...  6.37399569e-28\n",
      "   6.60148766e-28  6.77706132e-28]\n",
      " ...\n",
      " [ 5.83237358e-46  5.82339643e-46  5.81442253e-46 ...  9.10963991e-46\n",
      "   9.43476876e-46  9.68569657e-46]\n",
      " [ 1.43511145e-50  1.43290254e-50  1.43069443e-50 ...  2.24151426e-50\n",
      "   2.32151533e-50  2.38325853e-50]\n",
      " [ 3.36357754e-55  3.35840035e-55  3.35322503e-55 ...  5.25360384e-55\n",
      "   5.44110831e-55  5.58582042e-55]]\n"
     ]
    }
   ],
   "source": [
    "#Dada A creamos la pseudo-inversa:\n",
    "def seudo(A):\n",
    "    return np.linalg.inv(A.T.dot(A)).dot(A.T)\n",
    "\n",
    "#A = np.array([[7, 2], [3, 4], [5, 3]]) \n",
    "#A_plus = seudo(A)\n",
    "\n",
    "#checamos con \n",
    "A_plus = np.linalg.pinv(A) \n",
    "print(A_plus)\n"
   ]
  },
  {
   "cell_type": "code",
   "execution_count": 18,
   "metadata": {},
   "outputs": [
    {
     "data": {
      "text/plain": [
       "array([ 4.77383741e-37, -1.41619065e-31,  6.82856110e-27,  3.59833934e-31,\n",
       "        1.26429702e-35,  3.70237223e-40,  9.75929945e-45,  2.40136922e-49,\n",
       "        5.62826781e-54])"
      ]
     },
     "execution_count": 18,
     "metadata": {},
     "output_type": "execute_result"
    }
   ],
   "source": [
    "#los coeficientes del polinomio se encuentran con:\n",
    "# y es el vector solución\n",
    "coefs = A_plus.dot(y)\n",
    "coefs"
   ]
  },
  {
   "cell_type": "code",
   "execution_count": 19,
   "metadata": {},
   "outputs": [],
   "source": [
    "tt=np.linspace(np.min(x),np.max(x), 10000)\n",
    "\n",
    "N8 = coefs[0]*tt**8 + coefs[1]*tt**7 + coefs[2]*tt**6 + coefs[3]*tt**5 \\\n",
    "    +coefs[4]*tt**4 + coefs[5]*tt**3 + coefs[6]*tt**2 +coefs[7]*tt**1 + coefs[8]"
   ]
  },
  {
   "cell_type": "code",
   "execution_count": 20,
   "metadata": {},
   "outputs": [
    {
     "data": {
      "text/plain": [
       "[<matplotlib.lines.Line2D at 0x7f7c482e7518>]"
      ]
     },
     "execution_count": 20,
     "metadata": {},
     "output_type": "execute_result"
    },
    {
     "data": {
      "image/png": "[encoded data removed]",
      "text/plain": [
       "<Figure size 432x288 with 1 Axes>"
      ]
     },
     "metadata": {
      "needs_background": "light"
     },
     "output_type": "display_data"
    }
   ],
   "source": [
    "import cmasher as cmr\n",
    "import matplotlib.pyplot as plt\n",
    "import numpy as np\n",
    "\n",
    "#plt.plot(x,y, '-', label=\"datos\")\n",
    "plt.plot(tt,N8, '-', label=\"N=8\")\n"
   ]
  },
  {
   "cell_type": "code",
   "execution_count": null,
   "metadata": {},
   "outputs": [],
   "source": []
  },
  {
   "cell_type": "code",
   "execution_count": null,
   "metadata": {},
   "outputs": [],
   "source": []
  }
 ],
 "metadata": {
  "kernelspec": {
   "display_name": "Python 3",
   "language": "python",
   "name": "python3"
  },
  "language_info": {
   "codemirror_mode": {
    "name": "ipython",
    "version": 3
   },
   "file_extension": ".py",
   "mimetype": "text/x-python",
   "name": "python",
   "nbconvert_exporter": "python",
   "pygments_lexer": "ipython3",
   "version": "3.6.9"
  }
 },
 "nbformat": 4,
 "nbformat_minor": 4
}
