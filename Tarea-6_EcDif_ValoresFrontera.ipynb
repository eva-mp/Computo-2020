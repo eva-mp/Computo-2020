{
 "cells": [
  {
   "cell_type": "markdown",
   "metadata": {},
   "source": [
    "# Ecuaciones diferenciales de segundo orden con valores a la frontera.\n",
    "Eva Martínez Palafox\n",
    "\n",
    "Los problemas de valor a la frontera son aquellos donde se tienen ecuaciones diferenciales de segundo orden y se conocen los valores inicial y final. \n",
    "\n",
    "## Método del disparo.\n",
    "Si tenemos una ecuación de segundo orden:\n",
    "$$\n",
    "y'' = f(x,y,y')\n",
    "$$\n",
    "y conocemos los valores de y en los extremos:\n",
    "\n",
    "\\begin{align*} \n",
    "y(x_i) &= a \\\\\n",
    "y(x_f) &= b\n",
    "\\end{align*}\n",
    "\n",
    "Se toma un valor arbitrario para $y'(x_i)=z_1$ (en este caso, $z_1$ es la pendiente entre los puntos de las fronteras y $z_2$ es $z_1 + 0.2z_1$) y se resuelve como un problema de valor inicial (usando Euler o Runge-Kutta) y se obtiene un valor final $y(x_f)^1$. Si este valor es distinto al deseado, se toma un valor nuevo $y'(x_i)=z_2$.\n",
    "\n",
    "\n",
    "Se resuelve nuevamente el problema con la nueva condición inicial. Si el valor nuevo es distinto de la solución deseada, es decir $y(x_f)^2 \\neq b$, se calcula de nuevo la condición inicial. \n",
    "\n",
    "El nuevo valor de $z_2$ se encuentra haciendo un ajuste lineal entre los puntos ($z_1, w_1$) y ($z_2, w_2$), donde $w_1$ y $w_2$ son estimaciones del valor de $y$ en la frontera derecha, obtenidos de resolver las ecuaciones con valores iniciales $y_1'(x_i) = z_1$ y $y_2'(x_i) = z_2$.\n",
    "Si no se alcanza la solucion, el nuevo valor de $z_1$ es el valor anterior de $z_2$. Con el nuevo valor inicial se resuelve el problema o se repite el procedimiento. \n"
   ]
  },
  {
   "cell_type": "markdown",
   "metadata": {},
   "source": [
    "### Resolver la siguiente ecuación usando el  método del disparo.\n",
    "\n",
    "$$\n",
    "\\frac{d^2y}{dx^2} + \\frac{dy}{dx} = cos(x)\n",
    "$$\n",
    "En el intervalor [0, 2] y sabiendo que y(0) = 0, y(2) = 5. Usar paso h = 0.5.\n"
   ]
  },
  {
   "cell_type": "code",
   "execution_count": 185,
   "metadata": {},
   "outputs": [],
   "source": [
    "# Paquetes y constantes.\n",
    "import matplotlib.pyplot as plt\n",
    "import numpy as np\n",
    "from scipy.integrate import odeint # para resolver las de 1er orden."
   ]
  },
  {
   "cell_type": "code",
   "execution_count": 186,
   "metadata": {},
   "outputs": [],
   "source": [
    "def shoot( f, a, b, z1, z2, t):\n",
    "    \"\"\"Implementación del método del disparo (shooting method)\n",
    "\n",
    "    Recibe:\n",
    "        f     - La Funcion dy/dt = f(y,x).  Since we are solving a second-\n",
    "                order boundary-value problem that has been transformed\n",
    "                into a first order system, this function should return a\n",
    "                1x2 array with the first entry equal to y and the second\n",
    "                entry equal to y'.\n",
    "        a     - valor en la frontera izquierda: a = y(t[0]).\n",
    "        b     - valor en la frontera derecha: b = y(t[n-1]).\n",
    "        z1    - primer valor (estimado) de la pendiente  y'(t[0]).\n",
    "        z2    - segundo valor (estimado) de la pendiente y'(t[0]).\n",
    "        t     - arreglo de las x's, aqui defines tu paso.\n",
    "        \n",
    "    Regresa:\n",
    "        y     - el arreglo que contiene la solución para cada x.\n",
    "\n",
    "    Notar:\n",
    "        Primero hay que convertir la EDO de 2o orden con valores a la frontera \n",
    "        en un sistema de dos ecuaciones de primer orden, \n",
    "        esto está en la función Funcion.\n",
    "    \"\"\"\n",
    "    tol = 1e-6      # tolerancia, que tanto lo dejamos alejarse de la frontera \n",
    "                    # derecha para considerar que ya terminó.\n",
    "    max_iter = 25   # Número máximo de disparos. \n",
    "    n = len(t)      # Tamaño de los arreglos, depende de las x y el paso.\n",
    "\n",
    "    # Primer intento de hallar la solución con y'(a) = z1.\n",
    "    y = odeint(Funcion, [a,z1],t)\n",
    "    #y = RK45(Funcion, [a,z1], t)\n",
    "    w1 = y[n-1,0]              #guardamos el último valor de la sol.\n",
    "                               # a ver si se parece a b...\n",
    "\n",
    "    print (\"%2d: z = %10.3e, error = %10.3e\" % (0, z1, b - w1))\n",
    "\n",
    "    # Calcula la solución otra vez, luego usa las dos estimaciones para \n",
    "    # refinar el cálculo de y'(a). La segunda solución reemplaza a la primera \n",
    "    # y se calcula una nueva solución.\n",
    "    # El proceso continua hasta que se soluciona la ecuación dentro \n",
    "    # de la tolerancia o se pasa del número de iteraciones. \n",
    "\n",
    "    for i in range(max_iter):\n",
    "\n",
    "        # Resuelve el segundo problema de valor inicial con y'(a) = z2.  \n",
    "        y = odeint(Funcion,[a,z2],t)        \n",
    "        w2 = y[n-1,0]\n",
    "\n",
    "        print (\"%2d: z = %10.3e, error = %10.3e\"%( i+1, z2, b - w2 ))\n",
    "\n",
    "        # A ver si ya le salió...  \n",
    "        if abs( b - w2 ) < tol:\n",
    "            break\n",
    "\n",
    "        z1, z2 = ( z2, z2 + ( z2 - z1 ) / ( w2 - w1 ) * ( b - w2 ) )        \n",
    "        w1 = w2\n",
    "\n",
    "    if abs( b - w2 ) >= tol:\n",
    "        print (\"\\n**** TRAAAN ****\")\n",
    "        print (\"Ya se pasó de (%d) disparos!\" % max_iter)\n",
    "        print (\"El error en la solución es %e :\" % ( b - w2 ))\n",
    "\n",
    "    return y[:,0]\n"
   ]
  },
  {
   "cell_type": "code",
   "execution_count": 187,
   "metadata": {},
   "outputs": [
    {
     "name": "stdout",
     "output_type": "stream",
     "text": [
      " 0: z =  2.500e+00, error =  2.108e+00\n",
      " 1: z =  3.000e+00, error =  1.676e+00\n",
      " 2: z =  4.938e+00, error =  1.002e-08\n"
     ]
    }
   ],
   "source": [
    "# Reescribimos la EDO de 2o orden como un sistema de ecuaciones de 1ero. \n",
    "# Una función que representa a las ecuaciones diferenciales acopladas\n",
    "# con valores iniciales falsos =P\n",
    "def Funcion(Y,t):\n",
    "    w1 = Y[0]\n",
    "    w2 = Y[1]\n",
    "    dw1dt = w2\n",
    "    dw2dt = -dw1dt + np.cos(t)\n",
    "    return (dw1dt,dw2dt) #regresa y', y'' \n",
    "\n",
    "Y = [a,z1]\n",
    "a = 0\n",
    "b = 5\n",
    "t = np.linspace(0,2,5)\n",
    "#print(x)\n",
    "z1 = (b-0)/(2-0)  #la pendiente entre las fronteras.\n",
    "z2 = 3.0          #la pendiente+20% entre las fronteras.\n",
    "#print(z1)\n",
    "y =shoot( Funcion, a, b, z1, z2, t)\n",
    "\n",
    "#plt.plot(t,y)\n",
    "#plt.grid()"
   ]
  },
  {
   "cell_type": "code",
   "execution_count": 188,
   "metadata": {},
   "outputs": [
    {
     "data": {
      "image/png": "[encoded data removed]",
      "text/plain": [
       "<Figure size 432x360 with 1 Axes>"
      ]
     },
     "metadata": {
      "needs_background": "light"
     },
     "output_type": "display_data"
    }
   ],
   "source": [
    "# Sol. analítica aprox. para comparar\n",
    "x = np.linspace(0,2,10)\n",
    "sol_a = (0.0782588*2.71828**(-x))*(-2.71828**x + 8.67456*2.71828**(x + 2) - 2.71828**x*np.sin(x) \\\n",
    "                               + 2.7182**(x + 2)*np.sin(x) + 2.71828**x*np.cos(x) - 2.71828**(x + 2)*np.cos(x) \\\n",
    "                               - 56.7077)\n",
    "# ------------------------------------------------------------\n",
    "plt.rcParams['figure.figsize'] = [6,5]\n",
    "plt.plot(x,sol_a,'o', label='analítica') \n",
    "plt.plot(t,y, label='shooting')\n",
    "plt.title('Comparación sol. analítica vs shooting ')\n",
    "plt.legend()\n",
    "plt.xlabel('x')\n",
    "plt.ylabel('y')\n",
    "plt.grid()"
   ]
  },
  {
   "cell_type": "markdown",
   "metadata": {},
   "source": [
    "## Método de diferencias finitas.\n",
    "\n",
    "Para resolver numéricamente EDO de segundo orden con valores a la frontera, sin convertirlas en un sistema de EDOs de primer orden, se utiliza el método de las diferencias finitas, donde se calculan las derivadas de y(x) de forma numérica. Si el problema por resolver es del tipo:\n",
    "\n",
    "$$\n",
    "y'' = p(x)y' + q(x)y +r(x) \n",
    "$$\n",
    "\n",
    "con $x$  $\\epsilon$  $[a,b]$   y valores a la frontera   $y(a)=\\alpha$ , $y(b)=\\beta$.\n",
    "\n",
    "\n",
    "El método, de forma general, consisten en lo siguiente. Sea $a+x_0 < x_1 < ... < x_N < x_(N+1) = b$ una partición uniforme de paso $h=\\frac{b-a}{N+1}$, luego de agrupar y multiplicar por $h^2$ se tiene el sistema de ecuaciones:\n",
    "\\begin{align*}\n",
    "y_0      &= \\alpha \\\\\n",
    "(1+\\frac{h}{2}p_n)y_{n-1} - (2 + h^2q_n)y_n +(1-\\frac{h}{2}p_n) y_{n+1}  &=  h^2r_n \\quad  n = 1,...,N \\\\\n",
    "y_{N+1}  &= \\beta \n",
    "\\end{align*}\n",
    "\n",
    "que queda de forma matricial  $\\mathbf{A}\\cdot\\mathbf{Y} = h^2 \\mathbf{r}-\\mathbf{c}$, donde $\\mathbf{A}$ es la matriz de coeficientes, $\\mathbf{r}$ la matriz de términos independientes y $\\mathbf{Y}$ la matriz de incógnitas.\n",
    "\n",
    "\\begin{equation}\n",
    "\\mathbf{A}=\\begin{pmatrix}\n",
    "-b_1 & c_1 & 0 & ... & 0\\\\\n",
    " a_2 &-b_2 &c_2& ... & 0\\\\\n",
    " \\vdots &\\ddots&\\ddots &\\ddots &\\vdots\\\\\n",
    " 0 & ... &a_{N-1}&-b_{N-1}& c_{N-1}\\\\\n",
    " 0& ... & 0 &a_N& -b_N\n",
    "\\end{pmatrix} ,\\quad\n",
    "\\mathbf{Y}=\\begin{pmatrix}\n",
    "y_1\\\\\n",
    "y_2\\\\\n",
    "\\vdots\\\\\n",
    "y_{N-1} \\\\\n",
    "y_N\n",
    "\\end{pmatrix},\\quad \n",
    "\\mathbf{r}=\\begin{pmatrix}\n",
    "r_1\\\\\n",
    "r_2\\\\\n",
    "\\vdots\\\\\n",
    "r_{N-1} \\\\\n",
    "r_N\n",
    "\\end{pmatrix},\\quad \n",
    "\\mathbf{c}=\\begin{pmatrix}\n",
    "\\alpha a_1\\\\\n",
    "0\\\\\n",
    "\\vdots\\\\\n",
    "0 \\\\\n",
    "\\beta c_N\n",
    "\\end{pmatrix}\n",
    "\\end{equation}\n",
    "\n",
    "donde, $a_n = 1+\\frac{h}{2}p_n$, $b_n=2+h^2q_n$, $c_n=1-\\frac{h}{2}p_n$. "
   ]
  },
  {
   "cell_type": "markdown",
   "metadata": {},
   "source": [
    "### Resolver por el método de las diferencias finitas la siguiente ecuacion diferencial,\n",
    "\n",
    "$$\n",
    "y'' + y' + y = x - \\frac{xy}{5}\n",
    "$$\n",
    "en el intervalo $[1, 3]$ y sabiendo que $y(1) = 2$  y $y(3)=-2$.  Usar un paso de h = 0.5.\n",
    "\n",
    "Podemos reescribir la ecuación como:\n",
    "$$\n",
    "y'' = -y' - (1+\\frac{x}{5}) y +x\n",
    "$$\n",
    "o bien \n",
    "$$\n",
    "y'' = u(x) + v(x) y + w(x) y'\n",
    "$$\n",
    "donde u, v, w son funciones de x o escalares. \n",
    "\\begin{align*}\n",
    "u(x) &= x \\\\\n",
    "v(x) &= -1-\\frac{1}{5} x \\\\\n",
    "w(x) &= -1\n",
    "\\end{align*}\n",
    "\n",
    "Vamos a resolver un sistema de n ecuaciones lineales con n-2 incógnitas. Donde n esta dado por el tamaño del paso elegido, mientras más precisión usemos más ecuaciones habrá que resolver."
   ]
  },
  {
   "cell_type": "code",
   "execution_count": 169,
   "metadata": {},
   "outputs": [],
   "source": [
    "def dif_fin( u, v, w, x, a, b ):\n",
    "    \"\"\"Resuelve por diferencias finitas una edo de 2o oden\n",
    "    con valores a la frontera como:\n",
    "\n",
    "        y'' = u(x) + v(x) y + w(x) y'\n",
    "        y(x[0]) = a, y(x[n-1]) = b\n",
    "\n",
    "    Recibe:\n",
    "        u,v,w - arreglo que contienen las funciones u(x), v(x), y w(x).\n",
    "                o escalares, los convertimos en np.arrays.\n",
    "        x     - de n valores donde hallar las y's.\n",
    "        a     - valor en la frontera izquierda: a = y(x[0]).\n",
    "        b     - valor en la frontera derecha: b = y(x[n-1]).\n",
    "\n",
    "    Regresa:\n",
    "        y     - el arreglo con la solución de la edo. \n",
    "    \"\"\"\n",
    "\n",
    "    if type(x) != np.ndarray:\n",
    "        if type(x) == list:\n",
    "            x = np.array(x)\n",
    "        else:\n",
    "            x = np.array([float(x)])\n",
    "\n",
    "    n = len(x) #numero de puntos donde se calcularan las y's.\n",
    "\n",
    "    #convertimos u,v,w en arreglos de n-elementos\n",
    "    if type(u) == int or type(u) == float:\n",
    "        u = np.array([float(u)]*n)\n",
    "\n",
    "    if type(v) == int or type(v) == float:\n",
    "        v = np.array([float(v)]*n)\n",
    "\n",
    "    if type(w) == int or type(w) == float:\n",
    "        w = np.array([float(w)]*n)\n",
    "\n",
    "    # Tamaño del paso. Esto define el tamaño del sistema de eqs.\n",
    "    # lo definimos por fuera, según como mandes el arreglo de las x's.\n",
    "    h = x[1] - x[0];\n",
    "    print('\\nTamaño del paso, h = ',h, '\\n')\n",
    "\n",
    "    # Se construye el sistema tridiagonal; \n",
    "    # Las condiciones a la frontera son la primer\n",
    "    # y última ecuación del sistema.\n",
    "\n",
    "    A = -(1.0 + w[1:n] * h/2.0)\n",
    "    A[-1] = 0.0\n",
    "\n",
    "    C = -(1.0 - w[0:n-1] * h/2.0)\n",
    "    C[0] = 0.0\n",
    "\n",
    "    D = 2.0 + h * h * v\n",
    "    D[0] = D[n-1] = 1.0\n",
    "\n",
    "    B =-h*h*u\n",
    "    B[0]=a    #izquierda\n",
    "    B[n-1]=b  #derecha\n",
    "\n",
    "    # Resolviendo el sistema tridiagonal\n",
    "    for i in range(1, n):\n",
    "        ymult = A[i-1] / D[i-1]\n",
    "        D[i] = D[i] - ymult * C[i-1]\n",
    "        B[i] = B[i] - ymult * B[i-1]\n",
    "\n",
    "    y = np.zeros(n)  \n",
    "    y[n-1] = B[n-1] / D[n-1]\n",
    "\n",
    "    for i in range(n-2,-1,-1):\n",
    "        y[i] = ( B[i] - C[i] * y[i+1] ) / D[i]\n",
    "\n",
    "    return y"
   ]
  },
  {
   "cell_type": "code",
   "execution_count": 170,
   "metadata": {},
   "outputs": [
    {
     "name": "stdout",
     "output_type": "stream",
     "text": [
      "[1.  1.5 2.  2.5 3. ]\n"
     ]
    }
   ],
   "source": [
    "# en el intervalo [1, 3] y sabiendo que y(1) = 2 & y(3)=-2.  Usar un paso de h = 0.1\n",
    "a=2\n",
    "b=-2\n",
    "\n",
    "x=np.linspace(1,3,5) \n",
    "print(x)"
   ]
  },
  {
   "cell_type": "code",
   "execution_count": 183,
   "metadata": {},
   "outputs": [
    {
     "name": "stdout",
     "output_type": "stream",
     "text": [
      "\n",
      "Tamaño del paso, h =  0.5 \n",
      "\n"
     ]
    },
    {
     "data": {
      "image/png": "[encoded data removed]",
      "text/plain": [
       "<Figure size 432x360 with 1 Axes>"
      ]
     },
     "metadata": {
      "needs_background": "light"
     },
     "output_type": "display_data"
    }
   ],
   "source": [
    "u= x\n",
    "v= -1-0.2*x\n",
    "w= -1\n",
    "\n",
    "y_df = dif_fin( u, v, w, x, a, b )\n",
    "plt.plot(x,y_df)\n",
    "plt.xlabel('x',fontsize=14)\n",
    "plt.ylabel('y',fontsize=14)\n",
    "plt.title('Solución por diferencias finitas con h=0.5')\n",
    "plt.grid()"
   ]
  },
  {
   "cell_type": "markdown",
   "metadata": {},
   "source": [
    "## <font color='red'>Punto extra: usando paso de h=0.1 </font>\n"
   ]
  },
  {
   "cell_type": "code",
   "execution_count": 175,
   "metadata": {},
   "outputs": [
    {
     "name": "stdout",
     "output_type": "stream",
     "text": [
      "[1.  1.1 1.2 1.3 1.4 1.5 1.6 1.7 1.8 1.9 2.  2.1 2.2 2.3 2.4 2.5 2.6 2.7\n",
      " 2.8 2.9 3. ]\n"
     ]
    }
   ],
   "source": [
    "# en el intervalo [1, 3] y sabiendo que y(1) = 2 & y(3)=-2.  Usar un paso de h = 0.1\n",
    "a=2\n",
    "b=-2\n",
    "\n",
    "x1=np.linspace(1,3,21) \n",
    "print(x1)"
   ]
  },
  {
   "cell_type": "code",
   "execution_count": 184,
   "metadata": {},
   "outputs": [
    {
     "name": "stdout",
     "output_type": "stream",
     "text": [
      "\n",
      "Tamaño del paso, h =  0.10000000000000009 \n",
      "\n"
     ]
    },
    {
     "data": {
      "image/png": "[encoded data removed]",
      "text/plain": [
       "<Figure size 432x360 with 1 Axes>"
      ]
     },
     "metadata": {
      "needs_background": "light"
     },
     "output_type": "display_data"
    }
   ],
   "source": [
    "u= x1\n",
    "v= -1-0.2*x1\n",
    "w= -1\n",
    "\n",
    "y_df1 = dif_fin( u, v, w, x1, a, b )\n",
    "\n",
    "plt.plot(x1,y_df1, label='h=0.1')\n",
    "plt.plot(x,y_df, label='h=0.5')\n",
    "plt.legend()\n",
    "plt.xlabel('x',fontsize=14)\n",
    "plt.ylabel('y',fontsize=14)\n",
    "plt.title('Solución por diferencias finitas')\n",
    "plt.grid()"
   ]
  }
 ],
 "metadata": {
  "kernelspec": {
   "display_name": "Python 3",
   "language": "python",
   "name": "python3"
  },
  "language_info": {
   "codemirror_mode": {
    "name": "ipython",
    "version": 3
   },
   "file_extension": ".py",
   "mimetype": "text/x-python",
   "name": "python",
   "nbconvert_exporter": "python",
   "pygments_lexer": "ipython3",
   "version": "3.6.9"
  }
 },
 "nbformat": 4,
 "nbformat_minor": 4
}
